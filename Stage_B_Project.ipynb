{
  "nbformat": 4,
  "nbformat_minor": 0,
  "metadata": {
    "colab": {
      "name": "Stage B Project.ipynb",
      "provenance": [],
      "collapsed_sections": [
        "fZ-KgQ3XHkbY",
        "XhWa5kZUHoQn",
        "sRZNJezOI11x"
      ]
    },
    "kernelspec": {
      "name": "python3",
      "display_name": "Python 3"
    },
    "language_info": {
      "name": "python"
    }
  },
  "cells": [
    {
      "cell_type": "markdown",
      "source": [
        "# **Stage B Project:** Lightgbm_PP22_T615"
      ],
      "metadata": {
        "id": "3FA9RhmUHINb"
      }
    },
    {
      "cell_type": "markdown",
      "source": [
        "## **1. Load Data**\n",
        "\n"
      ],
      "metadata": {
        "id": "9sfGAyhNHTDb"
      }
    },
    {
      "cell_type": "code",
      "execution_count": null,
      "metadata": {
        "id": "pEu1ZNXsA63h",
        "colab": {
          "base_uri": "https://localhost:8080/"
        },
        "outputId": "9db53d47-b2cd-4241-f78a-094b3cbc6d45"
      },
      "outputs": [
        {
          "output_type": "stream",
          "name": "stdout",
          "text": [
            "Requirement already satisfied: kaggle in /usr/local/lib/python3.7/dist-packages (1.5.12)\n",
            "Requirement already satisfied: urllib3 in /usr/local/lib/python3.7/dist-packages (from kaggle) (1.24.3)\n",
            "Requirement already satisfied: six>=1.10 in /usr/local/lib/python3.7/dist-packages (from kaggle) (1.15.0)\n",
            "Requirement already satisfied: requests in /usr/local/lib/python3.7/dist-packages (from kaggle) (2.23.0)\n",
            "Requirement already satisfied: tqdm in /usr/local/lib/python3.7/dist-packages (from kaggle) (4.62.3)\n",
            "Requirement already satisfied: python-slugify in /usr/local/lib/python3.7/dist-packages (from kaggle) (5.0.2)\n",
            "Requirement already satisfied: certifi in /usr/local/lib/python3.7/dist-packages (from kaggle) (2021.10.8)\n",
            "Requirement already satisfied: python-dateutil in /usr/local/lib/python3.7/dist-packages (from kaggle) (2.8.2)\n",
            "Requirement already satisfied: text-unidecode>=1.3 in /usr/local/lib/python3.7/dist-packages (from python-slugify->kaggle) (1.3)\n",
            "Requirement already satisfied: chardet<4,>=3.0.2 in /usr/local/lib/python3.7/dist-packages (from requests->kaggle) (3.0.4)\n",
            "Requirement already satisfied: idna<3,>=2.5 in /usr/local/lib/python3.7/dist-packages (from requests->kaggle) (2.10)\n",
            "mkdir: cannot create directory ‘/root/.kaggle’: File exists\n",
            "Downloading japan-trade-statistics.zip to /content\n",
            "100% 850M/851M [00:07<00:00, 85.7MB/s]\n",
            "100% 851M/851M [00:07<00:00, 125MB/s] \n",
            "Archive:  /content/japan-trade-statistics.zip\n",
            "  inflating: /content/kaggle_input/codes.db  \n",
            "  inflating: /content/kaggle_input/custom_2017_2020.db  \n",
            "  inflating: /content/kaggle_input/custom_2020.db  \n",
            "  inflating: /content/kaggle_input/custom_2021.db  \n",
            "  inflating: /content/kaggle_input/custom_from_2012.db  \n",
            "  inflating: /content/kaggle_input/y_1997.db  \n",
            "  inflating: /content/kaggle_input/ym_2017_2020.db  \n",
            "  inflating: /content/kaggle_input/ym_2018.db  \n",
            "  inflating: /content/kaggle_input/ym_2018_2020.db  \n",
            "  inflating: /content/kaggle_input/ym_2019.db  \n",
            "  inflating: /content/kaggle_input/ym_2020.db  \n",
            "  inflating: /content/kaggle_input/ym_2021.db  \n"
          ]
        }
      ],
      "source": [
        "!pip install kaggle\n",
        "! mkdir ~/.kaggle\n",
        "! cp kaggle.json ~/.kaggle/\n",
        "! chmod 600 ~/.kaggle/kaggle.json\n",
        "! kaggle datasets download zanjibar/japan-trade-statistics\n",
        "!unzip /content/japan-trade-statistics -d /content/kaggle_input"
      ]
    },
    {
      "cell_type": "code",
      "source": [
        "import sqlite3\n",
        "import pandas as pd\n",
        "from pandas import read_sql_query, read_sql_table"
      ],
      "metadata": {
        "id": "CezQx6CGBT1O"
      },
      "execution_count": 1,
      "outputs": []
    },
    {
      "cell_type": "code",
      "source": [
        "def read_sqlite(dbfile):\n",
        "  with sqlite3.connect(dbfile) as dbcon:\n",
        "    tables = list(read_sql_query(\"SELECT name FROM sqlite_master WHERE type='table';\", dbcon)['name'])\n",
        "    out = {tbl : read_sql_query(f\"SELECT * from {tbl}\", dbcon) for tbl in tables}\n",
        "    print(\"The tables in this file are: \", out.keys(), \"\\n\\n\")\n",
        "  return out"
      ],
      "metadata": {
        "id": "BApR1G5_C576"
      },
      "execution_count": 2,
      "outputs": []
    },
    {
      "cell_type": "markdown",
      "source": [
        "### **a. Codes.db**"
      ],
      "metadata": {
        "id": "fZ-KgQ3XHkbY"
      }
    },
    {
      "cell_type": "code",
      "source": [
        "codes = read_sqlite(\"kaggle_input/codes.db\")\n",
        "print(codes.keys())"
      ],
      "metadata": {
        "colab": {
          "base_uri": "https://localhost:8080/"
        },
        "id": "01KNJ0LcGn4n",
        "outputId": "ab068147-3865-47d1-b004-cb5a04ee556b"
      },
      "execution_count": 7,
      "outputs": [
        {
          "output_type": "stream",
          "name": "stdout",
          "text": [
            "The tables in this file are:  dict_keys(['country_jpn', 'hs2_jpn', 'hs2_eng', 'hs4_eng', 'hs6_jpn', 'hs6_eng', 'hs9_jpn', 'hs9_eng', 'country_eng', 'hs4_jpn', 'custom_tmp', 'custom']) \n",
            "\n",
            "\n",
            "dict_keys(['country_jpn', 'hs2_jpn', 'hs2_eng', 'hs4_eng', 'hs6_jpn', 'hs6_eng', 'hs9_jpn', 'hs9_eng', 'country_eng', 'hs4_jpn', 'custom_tmp', 'custom'])\n"
          ]
        }
      ]
    },
    {
      "cell_type": "code",
      "source": [
        "df_codes_country = codes['country_eng']\n",
        "df_codes_country.head(10)"
      ],
      "metadata": {
        "colab": {
          "base_uri": "https://localhost:8080/",
          "height": 363
        },
        "id": "9G9jS4DaGrsg",
        "outputId": "4d6ee62c-f354-430a-9b9e-f4a568bc330c"
      },
      "execution_count": 8,
      "outputs": [
        {
          "output_type": "execute_result",
          "data": {
            "text/html": [
              "\n",
              "  <div id=\"df-977165ab-b2d3-4613-a2cd-637e64feccb2\">\n",
              "    <div class=\"colab-df-container\">\n",
              "      <div>\n",
              "<style scoped>\n",
              "    .dataframe tbody tr th:only-of-type {\n",
              "        vertical-align: middle;\n",
              "    }\n",
              "\n",
              "    .dataframe tbody tr th {\n",
              "        vertical-align: top;\n",
              "    }\n",
              "\n",
              "    .dataframe thead th {\n",
              "        text-align: right;\n",
              "    }\n",
              "</style>\n",
              "<table border=\"1\" class=\"dataframe\">\n",
              "  <thead>\n",
              "    <tr style=\"text-align: right;\">\n",
              "      <th></th>\n",
              "      <th>Country</th>\n",
              "      <th>Country_name</th>\n",
              "      <th>Area</th>\n",
              "    </tr>\n",
              "  </thead>\n",
              "  <tbody>\n",
              "    <tr>\n",
              "      <th>0</th>\n",
              "      <td>103</td>\n",
              "      <td>Korea</td>\n",
              "      <td>Asia</td>\n",
              "    </tr>\n",
              "    <tr>\n",
              "      <th>1</th>\n",
              "      <td>104</td>\n",
              "      <td>North_Korea</td>\n",
              "      <td>Asia</td>\n",
              "    </tr>\n",
              "    <tr>\n",
              "      <th>2</th>\n",
              "      <td>105</td>\n",
              "      <td>China</td>\n",
              "      <td>Asia</td>\n",
              "    </tr>\n",
              "    <tr>\n",
              "      <th>3</th>\n",
              "      <td>106</td>\n",
              "      <td>Taiwan</td>\n",
              "      <td>Asia</td>\n",
              "    </tr>\n",
              "    <tr>\n",
              "      <th>4</th>\n",
              "      <td>107</td>\n",
              "      <td>Mongolia</td>\n",
              "      <td>Asia</td>\n",
              "    </tr>\n",
              "    <tr>\n",
              "      <th>5</th>\n",
              "      <td>108</td>\n",
              "      <td>Hong_Kong</td>\n",
              "      <td>Asia</td>\n",
              "    </tr>\n",
              "    <tr>\n",
              "      <th>6</th>\n",
              "      <td>110</td>\n",
              "      <td>Viet_Nam</td>\n",
              "      <td>Asia</td>\n",
              "    </tr>\n",
              "    <tr>\n",
              "      <th>7</th>\n",
              "      <td>111</td>\n",
              "      <td>Thailand</td>\n",
              "      <td>Asia</td>\n",
              "    </tr>\n",
              "    <tr>\n",
              "      <th>8</th>\n",
              "      <td>112</td>\n",
              "      <td>Singapore</td>\n",
              "      <td>Asia</td>\n",
              "    </tr>\n",
              "    <tr>\n",
              "      <th>9</th>\n",
              "      <td>113</td>\n",
              "      <td>Malaysia</td>\n",
              "      <td>Asia</td>\n",
              "    </tr>\n",
              "  </tbody>\n",
              "</table>\n",
              "</div>\n",
              "      <button class=\"colab-df-convert\" onclick=\"convertToInteractive('df-977165ab-b2d3-4613-a2cd-637e64feccb2')\"\n",
              "              title=\"Convert this dataframe to an interactive table.\"\n",
              "              style=\"display:none;\">\n",
              "        \n",
              "  <svg xmlns=\"http://www.w3.org/2000/svg\" height=\"24px\"viewBox=\"0 0 24 24\"\n",
              "       width=\"24px\">\n",
              "    <path d=\"M0 0h24v24H0V0z\" fill=\"none\"/>\n",
              "    <path d=\"M18.56 5.44l.94 2.06.94-2.06 2.06-.94-2.06-.94-.94-2.06-.94 2.06-2.06.94zm-11 1L8.5 8.5l.94-2.06 2.06-.94-2.06-.94L8.5 2.5l-.94 2.06-2.06.94zm10 10l.94 2.06.94-2.06 2.06-.94-2.06-.94-.94-2.06-.94 2.06-2.06.94z\"/><path d=\"M17.41 7.96l-1.37-1.37c-.4-.4-.92-.59-1.43-.59-.52 0-1.04.2-1.43.59L10.3 9.45l-7.72 7.72c-.78.78-.78 2.05 0 2.83L4 21.41c.39.39.9.59 1.41.59.51 0 1.02-.2 1.41-.59l7.78-7.78 2.81-2.81c.8-.78.8-2.07 0-2.86zM5.41 20L4 18.59l7.72-7.72 1.47 1.35L5.41 20z\"/>\n",
              "  </svg>\n",
              "      </button>\n",
              "      \n",
              "  <style>\n",
              "    .colab-df-container {\n",
              "      display:flex;\n",
              "      flex-wrap:wrap;\n",
              "      gap: 12px;\n",
              "    }\n",
              "\n",
              "    .colab-df-convert {\n",
              "      background-color: #E8F0FE;\n",
              "      border: none;\n",
              "      border-radius: 50%;\n",
              "      cursor: pointer;\n",
              "      display: none;\n",
              "      fill: #1967D2;\n",
              "      height: 32px;\n",
              "      padding: 0 0 0 0;\n",
              "      width: 32px;\n",
              "    }\n",
              "\n",
              "    .colab-df-convert:hover {\n",
              "      background-color: #E2EBFA;\n",
              "      box-shadow: 0px 1px 2px rgba(60, 64, 67, 0.3), 0px 1px 3px 1px rgba(60, 64, 67, 0.15);\n",
              "      fill: #174EA6;\n",
              "    }\n",
              "\n",
              "    [theme=dark] .colab-df-convert {\n",
              "      background-color: #3B4455;\n",
              "      fill: #D2E3FC;\n",
              "    }\n",
              "\n",
              "    [theme=dark] .colab-df-convert:hover {\n",
              "      background-color: #434B5C;\n",
              "      box-shadow: 0px 1px 3px 1px rgba(0, 0, 0, 0.15);\n",
              "      filter: drop-shadow(0px 1px 2px rgba(0, 0, 0, 0.3));\n",
              "      fill: #FFFFFF;\n",
              "    }\n",
              "  </style>\n",
              "\n",
              "      <script>\n",
              "        const buttonEl =\n",
              "          document.querySelector('#df-977165ab-b2d3-4613-a2cd-637e64feccb2 button.colab-df-convert');\n",
              "        buttonEl.style.display =\n",
              "          google.colab.kernel.accessAllowed ? 'block' : 'none';\n",
              "\n",
              "        async function convertToInteractive(key) {\n",
              "          const element = document.querySelector('#df-977165ab-b2d3-4613-a2cd-637e64feccb2');\n",
              "          const dataTable =\n",
              "            await google.colab.kernel.invokeFunction('convertToInteractive',\n",
              "                                                     [key], {});\n",
              "          if (!dataTable) return;\n",
              "\n",
              "          const docLinkHtml = 'Like what you see? Visit the ' +\n",
              "            '<a target=\"_blank\" href=https://colab.research.google.com/notebooks/data_table.ipynb>data table notebook</a>'\n",
              "            + ' to learn more about interactive tables.';\n",
              "          element.innerHTML = '';\n",
              "          dataTable['output_type'] = 'display_data';\n",
              "          await google.colab.output.renderOutput(dataTable, element);\n",
              "          const docLink = document.createElement('div');\n",
              "          docLink.innerHTML = docLinkHtml;\n",
              "          element.appendChild(docLink);\n",
              "        }\n",
              "      </script>\n",
              "    </div>\n",
              "  </div>\n",
              "  "
            ],
            "text/plain": [
              "  Country Country_name  Area\n",
              "0     103        Korea  Asia\n",
              "1     104  North_Korea  Asia\n",
              "2     105        China  Asia\n",
              "3     106       Taiwan  Asia\n",
              "4     107     Mongolia  Asia\n",
              "5     108    Hong_Kong  Asia\n",
              "6     110     Viet_Nam  Asia\n",
              "7     111     Thailand  Asia\n",
              "8     112    Singapore  Asia\n",
              "9     113     Malaysia  Asia"
            ]
          },
          "metadata": {},
          "execution_count": 8
        }
      ]
    },
    {
      "cell_type": "code",
      "source": [
        "print(\"Null Values:\\n\\n\", df_codes_country.isnull().sum(), \"\\n\")\n",
        "print(\"Duplicated Values: \", df_codes_country.duplicated().any())"
      ],
      "metadata": {
        "colab": {
          "base_uri": "https://localhost:8080/"
        },
        "id": "S7Nbtz6WHwYW",
        "outputId": "b8894186-4055-4f72-8f7d-58cdfc4a0c12"
      },
      "execution_count": 9,
      "outputs": [
        {
          "output_type": "stream",
          "name": "stdout",
          "text": [
            "Null Values:\n",
            "\n",
            " Country         0\n",
            "Country_name    0\n",
            "Area            0\n",
            "dtype: int64 \n",
            "\n",
            "Duplicated Values:  False\n"
          ]
        }
      ]
    },
    {
      "cell_type": "code",
      "source": [
        "print(\"Number of rows: \", len(df_codes_country))"
      ],
      "metadata": {
        "colab": {
          "base_uri": "https://localhost:8080/"
        },
        "id": "aJ4uT-oSH3DH",
        "outputId": "bad75607-54fd-4373-c779-09f2f52b8a43"
      },
      "execution_count": 10,
      "outputs": [
        {
          "output_type": "stream",
          "name": "stdout",
          "text": [
            "Number of rows:  232\n"
          ]
        }
      ]
    },
    {
      "cell_type": "code",
      "source": [
        "code_to_name = dict(zip((df_codes_country['Country']),df_codes_country['Country_name']))\n",
        "code_int_to_name = {int(k):v for k,v in code_to_name.items()}\n",
        "print(code_to_name)\n",
        "print(code_int_to_name)"
      ],
      "metadata": {
        "colab": {
          "base_uri": "https://localhost:8080/"
        },
        "id": "6W2DUtugK8MZ",
        "outputId": "92ba75ea-5034-4b88-fe0b-0425dacbe2cc"
      },
      "execution_count": 16,
      "outputs": [
        {
          "output_type": "stream",
          "name": "stdout",
          "text": [
            "{'103': 'Korea', '104': 'North_Korea', '105': 'China', '106': 'Taiwan', '107': 'Mongolia', '108': 'Hong_Kong', '110': 'Viet_Nam', '111': 'Thailand', '112': 'Singapore', '113': 'Malaysia', '116': 'Brunei', '117': 'Philippines', '118': 'Indonesia', '120': 'Cambodia', '121': 'Lao', '122': 'Myanmar', '123': 'India', '124': 'Pakistan', '125': 'Sri_Lanka', '126': 'Maldives', '127': 'Bangladesh', '128': 'Timor-Leste', '129': 'Macao', '130': 'Afghanistan', '131': 'Nepal', '132': 'Bhutan', '133': 'Iran', '134': 'Iraq', '135': 'Bahrain', '137': 'Saudi_Arabia', '138': 'Kuwait', '140': 'Qatar', '141': 'Oman', '143': 'Israel', '144': 'Jordan', '145': 'Syria', '146': 'Lebanon', '147': 'United_Arab_Emirates', '149': 'Yemen', '150': 'Azerbaijan', '151': 'Armenia', '152': 'Uzbekistan', '153': 'Kazakhstan', '154': 'Kyrgyz', '155': 'Tajikistan', '156': 'Turkmenistan', '157': 'Georgia', '158': 'West_Bank_and_Gaza_Strip', '201': 'Iceland', '202': 'Norway', '203': 'Sweden', '204': 'Denmark', '205': 'United_Kingdom', '206': 'Ireland', '207': 'Netherlands', '208': 'Belgium', '209': 'Luxembourg', '210': 'France', '211': 'Monaco', '212': 'Andorra', '213': 'Germany', '215': 'Switzerland', '216': 'Azores_(Portugal)', '217': 'Portugal', '218': 'Spain', '219': 'Gibraltar_(UK)', '220': 'Italy', '221': 'Malta', '222': 'Finland', '223': 'Poland', '224': 'Russia', '225': 'Austria', '227': 'Hungary', '228': 'Serbia', '229': 'Albania', '230': 'Greece', '231': 'Romania', '232': 'Bulgaria', '233': 'Cyprus', '234': 'Turkey', '235': 'Estonia', '236': 'Latvia', '237': 'Lithuania', '238': 'Ukraine', '239': 'Belarus', '240': 'Moldova', '241': 'Croatia', '242': 'Slovenia', '243': 'Bosnia_and_Herzegovina', '244': 'Former_Yugoslav_Republic_of_Macedonia', '245': 'Czech_Republic', '246': 'Slovak', '247': 'Montenegro', '248': 'Kosovo', '301': 'Greenland_(Denmark)', '302': 'Canada', '303': 'St.Pierre_and_Miquelon_(France)', '304': 'United_States_of_America', '305': 'Mexico', '306': 'Guatemala', '307': 'Honduras', '308': 'Belize', '309': 'El_Salvador', '310': 'Nicaragua', '311': 'Costa_Rica', '312': 'Panama', '314': 'Bermuda_(UK)', '315': 'Bahamas', '316': 'Jamaica', '317': 'Turks_and_Caicos_Islands_(UK)', '319': 'Barbados', '320': 'Trinidad_and_Tobago', '321': 'Cuba', '322': 'Haiti', '323': 'Dominican_Republic', '324': 'Puerto_Rico_(USA)', '325': 'US_Virgin_Islands', '326': 'Netherlands_Antilles', '327': 'French_West_Indies', '328': 'Cayman_islands_(UK)', '329': 'Grenada', '330': 'St.Lucia', '331': 'Antigua_and_Barbuda', '332': 'British_Virgin_Islands', '333': 'Dominica', '334': 'Monstserrat_(UK)', '335': 'St.Christopher_and_Nevis', '336': 'St.Vincent', '337': 'British_Anguilla', '401': 'Colombia', '402': 'Venezuela', '403': 'Guyana', '404': 'Suriname', '405': 'French_Guiana', '406': 'Ecuador', '407': 'Peru', '408': 'Bolivia', '409': 'Chile', '410': 'Brazil', '411': 'Paraguay', '412': 'Uruguay', '413': 'Argentina', '414': 'Falkland_Islands_and_Dependencies_(UK)', '415': 'British_Antarctic_Territory', '501': 'Morocco', '502': 'Ceuta_and_Melilla_(Spain)', '503': 'Algeria', '504': 'Tunisia', '505': 'Libya', '506': 'Egypt', '507': 'Sudan', '508': 'West_Sahara', '509': 'Mauritania', '510': 'Senegal', '511': 'Gambia', '512': 'Guinea-Bissau', '513': 'Guinea', '514': 'Sierra_Leone', '515': 'Liberia', '516': \"Côte_d'Ivoire\", '517': 'Ghana', '518': 'Togo', '519': 'Benin', '520': 'Mali', '521': 'Burkina_Faso', '522': 'Cape_Verde', '523': 'Canary_Islands_(Spain)', '524': 'Nigeria', '525': 'Niger', '526': 'Rwanda', '527': 'Cameroon', '528': 'Chad', '529': 'Central_Africa', '530': 'Equatorial_Guinea', '531': 'Gabon', '532': 'Congo', '533': 'Congo', '534': 'Burundi', '535': 'Angola', '536': 'Sao_Tome_and_Principe', '537': 'St._Helena_Island_and_Dependencies_(UK)', '538': 'Ethiopia', '539': 'Djibouti', '540': 'Somalia', '541': 'Kenya', '542': 'Uganda', '543': 'Tanzania', '544': 'Seychelles', '545': 'Mozambique', '546': 'Madagascar', '547': 'Mauritius', '548': 'Reunion_(France)', '549': 'Zimbabwe', '550': 'Namibia', '551': 'South_Africa', '552': 'Lesotho', '553': 'Malawi', '554': 'Zambia', '555': 'Botswana', '556': 'Swaziland', '557': 'British_indian_Ocean_Territories', '558': 'Comoros', '559': 'Eritrea', '560': 'South_Sudan', '601': 'Australia', '602': 'Papua_New_Guinea', '605': 'Other_Australian_Territories', '606': 'New_Zealand', '607': 'Cook', '608': 'Tokelau_Islands_(NZ)', '609': 'Niue', '610': 'Samoa', '611': 'Vanuatu', '612': 'Fiji', '613': 'Solomon_Islands', '614': 'Tonga', '615': 'Kiribati', '616': 'Pitcairn_(UK)', '617': 'Nauru', '618': 'New_Caledonia_(France)', '619': 'French_Polynesia', '620': 'Guam_(USA)', '621': 'American_Samoa', '622': 'American_Oceania', '624': 'Tuvalu', '625': 'Marshall', '626': 'Micronesia', '627': 'Northern_Mariana_Islands_(USA)', '628': 'Palau', '701': 'For_Order', '702': 'Unknown', '703': 'Bonded_Manufacturing_Warehouse'}\n",
            "{103: 'Korea', 104: 'North_Korea', 105: 'China', 106: 'Taiwan', 107: 'Mongolia', 108: 'Hong_Kong', 110: 'Viet_Nam', 111: 'Thailand', 112: 'Singapore', 113: 'Malaysia', 116: 'Brunei', 117: 'Philippines', 118: 'Indonesia', 120: 'Cambodia', 121: 'Lao', 122: 'Myanmar', 123: 'India', 124: 'Pakistan', 125: 'Sri_Lanka', 126: 'Maldives', 127: 'Bangladesh', 128: 'Timor-Leste', 129: 'Macao', 130: 'Afghanistan', 131: 'Nepal', 132: 'Bhutan', 133: 'Iran', 134: 'Iraq', 135: 'Bahrain', 137: 'Saudi_Arabia', 138: 'Kuwait', 140: 'Qatar', 141: 'Oman', 143: 'Israel', 144: 'Jordan', 145: 'Syria', 146: 'Lebanon', 147: 'United_Arab_Emirates', 149: 'Yemen', 150: 'Azerbaijan', 151: 'Armenia', 152: 'Uzbekistan', 153: 'Kazakhstan', 154: 'Kyrgyz', 155: 'Tajikistan', 156: 'Turkmenistan', 157: 'Georgia', 158: 'West_Bank_and_Gaza_Strip', 201: 'Iceland', 202: 'Norway', 203: 'Sweden', 204: 'Denmark', 205: 'United_Kingdom', 206: 'Ireland', 207: 'Netherlands', 208: 'Belgium', 209: 'Luxembourg', 210: 'France', 211: 'Monaco', 212: 'Andorra', 213: 'Germany', 215: 'Switzerland', 216: 'Azores_(Portugal)', 217: 'Portugal', 218: 'Spain', 219: 'Gibraltar_(UK)', 220: 'Italy', 221: 'Malta', 222: 'Finland', 223: 'Poland', 224: 'Russia', 225: 'Austria', 227: 'Hungary', 228: 'Serbia', 229: 'Albania', 230: 'Greece', 231: 'Romania', 232: 'Bulgaria', 233: 'Cyprus', 234: 'Turkey', 235: 'Estonia', 236: 'Latvia', 237: 'Lithuania', 238: 'Ukraine', 239: 'Belarus', 240: 'Moldova', 241: 'Croatia', 242: 'Slovenia', 243: 'Bosnia_and_Herzegovina', 244: 'Former_Yugoslav_Republic_of_Macedonia', 245: 'Czech_Republic', 246: 'Slovak', 247: 'Montenegro', 248: 'Kosovo', 301: 'Greenland_(Denmark)', 302: 'Canada', 303: 'St.Pierre_and_Miquelon_(France)', 304: 'United_States_of_America', 305: 'Mexico', 306: 'Guatemala', 307: 'Honduras', 308: 'Belize', 309: 'El_Salvador', 310: 'Nicaragua', 311: 'Costa_Rica', 312: 'Panama', 314: 'Bermuda_(UK)', 315: 'Bahamas', 316: 'Jamaica', 317: 'Turks_and_Caicos_Islands_(UK)', 319: 'Barbados', 320: 'Trinidad_and_Tobago', 321: 'Cuba', 322: 'Haiti', 323: 'Dominican_Republic', 324: 'Puerto_Rico_(USA)', 325: 'US_Virgin_Islands', 326: 'Netherlands_Antilles', 327: 'French_West_Indies', 328: 'Cayman_islands_(UK)', 329: 'Grenada', 330: 'St.Lucia', 331: 'Antigua_and_Barbuda', 332: 'British_Virgin_Islands', 333: 'Dominica', 334: 'Monstserrat_(UK)', 335: 'St.Christopher_and_Nevis', 336: 'St.Vincent', 337: 'British_Anguilla', 401: 'Colombia', 402: 'Venezuela', 403: 'Guyana', 404: 'Suriname', 405: 'French_Guiana', 406: 'Ecuador', 407: 'Peru', 408: 'Bolivia', 409: 'Chile', 410: 'Brazil', 411: 'Paraguay', 412: 'Uruguay', 413: 'Argentina', 414: 'Falkland_Islands_and_Dependencies_(UK)', 415: 'British_Antarctic_Territory', 501: 'Morocco', 502: 'Ceuta_and_Melilla_(Spain)', 503: 'Algeria', 504: 'Tunisia', 505: 'Libya', 506: 'Egypt', 507: 'Sudan', 508: 'West_Sahara', 509: 'Mauritania', 510: 'Senegal', 511: 'Gambia', 512: 'Guinea-Bissau', 513: 'Guinea', 514: 'Sierra_Leone', 515: 'Liberia', 516: \"Côte_d'Ivoire\", 517: 'Ghana', 518: 'Togo', 519: 'Benin', 520: 'Mali', 521: 'Burkina_Faso', 522: 'Cape_Verde', 523: 'Canary_Islands_(Spain)', 524: 'Nigeria', 525: 'Niger', 526: 'Rwanda', 527: 'Cameroon', 528: 'Chad', 529: 'Central_Africa', 530: 'Equatorial_Guinea', 531: 'Gabon', 532: 'Congo', 533: 'Congo', 534: 'Burundi', 535: 'Angola', 536: 'Sao_Tome_and_Principe', 537: 'St._Helena_Island_and_Dependencies_(UK)', 538: 'Ethiopia', 539: 'Djibouti', 540: 'Somalia', 541: 'Kenya', 542: 'Uganda', 543: 'Tanzania', 544: 'Seychelles', 545: 'Mozambique', 546: 'Madagascar', 547: 'Mauritius', 548: 'Reunion_(France)', 549: 'Zimbabwe', 550: 'Namibia', 551: 'South_Africa', 552: 'Lesotho', 553: 'Malawi', 554: 'Zambia', 555: 'Botswana', 556: 'Swaziland', 557: 'British_indian_Ocean_Territories', 558: 'Comoros', 559: 'Eritrea', 560: 'South_Sudan', 601: 'Australia', 602: 'Papua_New_Guinea', 605: 'Other_Australian_Territories', 606: 'New_Zealand', 607: 'Cook', 608: 'Tokelau_Islands_(NZ)', 609: 'Niue', 610: 'Samoa', 611: 'Vanuatu', 612: 'Fiji', 613: 'Solomon_Islands', 614: 'Tonga', 615: 'Kiribati', 616: 'Pitcairn_(UK)', 617: 'Nauru', 618: 'New_Caledonia_(France)', 619: 'French_Polynesia', 620: 'Guam_(USA)', 621: 'American_Samoa', 622: 'American_Oceania', 624: 'Tuvalu', 625: 'Marshall', 626: 'Micronesia', 627: 'Northern_Mariana_Islands_(USA)', 628: 'Palau', 701: 'For_Order', 702: 'Unknown', 703: 'Bonded_Manufacturing_Warehouse'}\n"
          ]
        }
      ]
    },
    {
      "cell_type": "markdown",
      "source": [
        "### **b. ym_2018.db**"
      ],
      "metadata": {
        "id": "XhWa5kZUHoQn"
      }
    },
    {
      "cell_type": "code",
      "source": [
        "ym_2018 = read_sqlite(\"kaggle_input/ym_2018.db\")\n",
        "print(ym_2018)"
      ],
      "metadata": {
        "colab": {
          "base_uri": "https://localhost:8080/"
        },
        "id": "cjSytyXuEZa9",
        "outputId": "fac8355e-9fd5-420e-ff20-1408ebd0623c"
      },
      "execution_count": null,
      "outputs": [
        {
          "output_type": "stream",
          "name": "stdout",
          "text": [
            "{'ym_2018':          exp_imp  Year month  Country Unit1  ...  Value  hs2   hs4     hs6        hs9\n",
            "0              1  2018    01      205        ...      0   01  0101  010121  010121000\n",
            "1              1  2018    01      206        ...      0   01  0101  010121  010121000\n",
            "2              1  2018    01      213        ...  30014   01  0101  010121  010121000\n",
            "3              1  2018    01      220        ...   9020   01  0101  010121  010121000\n",
            "4              1  2018    01      304        ...   1500   01  0101  010121  010121000\n",
            "...          ...   ...   ...      ...   ...  ...    ...  ...   ...     ...        ...\n",
            "2824051        2  2018    12      619        ...      0   00  0000  000000  000000099\n",
            "2824052        2  2018    12      620        ...  20444   00  0000  000000  000000099\n",
            "2824053        2  2018    12      626        ...      0   00  0000  000000  000000099\n",
            "2824054        2  2018    12      628        ...      0   00  0000  000000  000000099\n",
            "2824055        2  2018    12      702        ...      0   00  0000  000000  000000099\n",
            "\n",
            "[2824056 rows x 13 columns]}\n"
          ]
        }
      ]
    },
    {
      "cell_type": "code",
      "source": [
        "df_2018 = ym_2018['ym_2018']\n",
        "df_2018.head()"
      ],
      "metadata": {
        "colab": {
          "base_uri": "https://localhost:8080/",
          "height": 206
        },
        "id": "ZRt_4-8sFf3-",
        "outputId": "d142bd1c-5a98-4aea-c982-06a802ee9426"
      },
      "execution_count": null,
      "outputs": [
        {
          "output_type": "execute_result",
          "data": {
            "text/html": [
              "\n",
              "  <div id=\"df-37c30530-82a6-4612-810d-778766b260b6\">\n",
              "    <div class=\"colab-df-container\">\n",
              "      <div>\n",
              "<style scoped>\n",
              "    .dataframe tbody tr th:only-of-type {\n",
              "        vertical-align: middle;\n",
              "    }\n",
              "\n",
              "    .dataframe tbody tr th {\n",
              "        vertical-align: top;\n",
              "    }\n",
              "\n",
              "    .dataframe thead th {\n",
              "        text-align: right;\n",
              "    }\n",
              "</style>\n",
              "<table border=\"1\" class=\"dataframe\">\n",
              "  <thead>\n",
              "    <tr style=\"text-align: right;\">\n",
              "      <th></th>\n",
              "      <th>exp_imp</th>\n",
              "      <th>Year</th>\n",
              "      <th>month</th>\n",
              "      <th>Country</th>\n",
              "      <th>Unit1</th>\n",
              "      <th>Unit2</th>\n",
              "      <th>Q1</th>\n",
              "      <th>Q2</th>\n",
              "      <th>Value</th>\n",
              "      <th>hs2</th>\n",
              "      <th>hs4</th>\n",
              "      <th>hs6</th>\n",
              "      <th>hs9</th>\n",
              "    </tr>\n",
              "  </thead>\n",
              "  <tbody>\n",
              "    <tr>\n",
              "      <th>0</th>\n",
              "      <td>1</td>\n",
              "      <td>2018</td>\n",
              "      <td>01</td>\n",
              "      <td>205</td>\n",
              "      <td></td>\n",
              "      <td>NO</td>\n",
              "      <td>0</td>\n",
              "      <td>0</td>\n",
              "      <td>0</td>\n",
              "      <td>01</td>\n",
              "      <td>0101</td>\n",
              "      <td>010121</td>\n",
              "      <td>010121000</td>\n",
              "    </tr>\n",
              "    <tr>\n",
              "      <th>1</th>\n",
              "      <td>1</td>\n",
              "      <td>2018</td>\n",
              "      <td>01</td>\n",
              "      <td>206</td>\n",
              "      <td></td>\n",
              "      <td>NO</td>\n",
              "      <td>0</td>\n",
              "      <td>0</td>\n",
              "      <td>0</td>\n",
              "      <td>01</td>\n",
              "      <td>0101</td>\n",
              "      <td>010121</td>\n",
              "      <td>010121000</td>\n",
              "    </tr>\n",
              "    <tr>\n",
              "      <th>2</th>\n",
              "      <td>1</td>\n",
              "      <td>2018</td>\n",
              "      <td>01</td>\n",
              "      <td>213</td>\n",
              "      <td></td>\n",
              "      <td>NO</td>\n",
              "      <td>0</td>\n",
              "      <td>2</td>\n",
              "      <td>30014</td>\n",
              "      <td>01</td>\n",
              "      <td>0101</td>\n",
              "      <td>010121</td>\n",
              "      <td>010121000</td>\n",
              "    </tr>\n",
              "    <tr>\n",
              "      <th>3</th>\n",
              "      <td>1</td>\n",
              "      <td>2018</td>\n",
              "      <td>01</td>\n",
              "      <td>220</td>\n",
              "      <td></td>\n",
              "      <td>NO</td>\n",
              "      <td>0</td>\n",
              "      <td>1</td>\n",
              "      <td>9020</td>\n",
              "      <td>01</td>\n",
              "      <td>0101</td>\n",
              "      <td>010121</td>\n",
              "      <td>010121000</td>\n",
              "    </tr>\n",
              "    <tr>\n",
              "      <th>4</th>\n",
              "      <td>1</td>\n",
              "      <td>2018</td>\n",
              "      <td>01</td>\n",
              "      <td>304</td>\n",
              "      <td></td>\n",
              "      <td>NO</td>\n",
              "      <td>0</td>\n",
              "      <td>1</td>\n",
              "      <td>1500</td>\n",
              "      <td>01</td>\n",
              "      <td>0101</td>\n",
              "      <td>010121</td>\n",
              "      <td>010121000</td>\n",
              "    </tr>\n",
              "  </tbody>\n",
              "</table>\n",
              "</div>\n",
              "      <button class=\"colab-df-convert\" onclick=\"convertToInteractive('df-37c30530-82a6-4612-810d-778766b260b6')\"\n",
              "              title=\"Convert this dataframe to an interactive table.\"\n",
              "              style=\"display:none;\">\n",
              "        \n",
              "  <svg xmlns=\"http://www.w3.org/2000/svg\" height=\"24px\"viewBox=\"0 0 24 24\"\n",
              "       width=\"24px\">\n",
              "    <path d=\"M0 0h24v24H0V0z\" fill=\"none\"/>\n",
              "    <path d=\"M18.56 5.44l.94 2.06.94-2.06 2.06-.94-2.06-.94-.94-2.06-.94 2.06-2.06.94zm-11 1L8.5 8.5l.94-2.06 2.06-.94-2.06-.94L8.5 2.5l-.94 2.06-2.06.94zm10 10l.94 2.06.94-2.06 2.06-.94-2.06-.94-.94-2.06-.94 2.06-2.06.94z\"/><path d=\"M17.41 7.96l-1.37-1.37c-.4-.4-.92-.59-1.43-.59-.52 0-1.04.2-1.43.59L10.3 9.45l-7.72 7.72c-.78.78-.78 2.05 0 2.83L4 21.41c.39.39.9.59 1.41.59.51 0 1.02-.2 1.41-.59l7.78-7.78 2.81-2.81c.8-.78.8-2.07 0-2.86zM5.41 20L4 18.59l7.72-7.72 1.47 1.35L5.41 20z\"/>\n",
              "  </svg>\n",
              "      </button>\n",
              "      \n",
              "  <style>\n",
              "    .colab-df-container {\n",
              "      display:flex;\n",
              "      flex-wrap:wrap;\n",
              "      gap: 12px;\n",
              "    }\n",
              "\n",
              "    .colab-df-convert {\n",
              "      background-color: #E8F0FE;\n",
              "      border: none;\n",
              "      border-radius: 50%;\n",
              "      cursor: pointer;\n",
              "      display: none;\n",
              "      fill: #1967D2;\n",
              "      height: 32px;\n",
              "      padding: 0 0 0 0;\n",
              "      width: 32px;\n",
              "    }\n",
              "\n",
              "    .colab-df-convert:hover {\n",
              "      background-color: #E2EBFA;\n",
              "      box-shadow: 0px 1px 2px rgba(60, 64, 67, 0.3), 0px 1px 3px 1px rgba(60, 64, 67, 0.15);\n",
              "      fill: #174EA6;\n",
              "    }\n",
              "\n",
              "    [theme=dark] .colab-df-convert {\n",
              "      background-color: #3B4455;\n",
              "      fill: #D2E3FC;\n",
              "    }\n",
              "\n",
              "    [theme=dark] .colab-df-convert:hover {\n",
              "      background-color: #434B5C;\n",
              "      box-shadow: 0px 1px 3px 1px rgba(0, 0, 0, 0.15);\n",
              "      filter: drop-shadow(0px 1px 2px rgba(0, 0, 0, 0.3));\n",
              "      fill: #FFFFFF;\n",
              "    }\n",
              "  </style>\n",
              "\n",
              "      <script>\n",
              "        const buttonEl =\n",
              "          document.querySelector('#df-37c30530-82a6-4612-810d-778766b260b6 button.colab-df-convert');\n",
              "        buttonEl.style.display =\n",
              "          google.colab.kernel.accessAllowed ? 'block' : 'none';\n",
              "\n",
              "        async function convertToInteractive(key) {\n",
              "          const element = document.querySelector('#df-37c30530-82a6-4612-810d-778766b260b6');\n",
              "          const dataTable =\n",
              "            await google.colab.kernel.invokeFunction('convertToInteractive',\n",
              "                                                     [key], {});\n",
              "          if (!dataTable) return;\n",
              "\n",
              "          const docLinkHtml = 'Like what you see? Visit the ' +\n",
              "            '<a target=\"_blank\" href=https://colab.research.google.com/notebooks/data_table.ipynb>data table notebook</a>'\n",
              "            + ' to learn more about interactive tables.';\n",
              "          element.innerHTML = '';\n",
              "          dataTable['output_type'] = 'display_data';\n",
              "          await google.colab.output.renderOutput(dataTable, element);\n",
              "          const docLink = document.createElement('div');\n",
              "          docLink.innerHTML = docLinkHtml;\n",
              "          element.appendChild(docLink);\n",
              "        }\n",
              "      </script>\n",
              "    </div>\n",
              "  </div>\n",
              "  "
            ],
            "text/plain": [
              "   exp_imp  Year month  Country Unit1  ...  Value  hs2   hs4     hs6        hs9\n",
              "0        1  2018    01      205        ...      0   01  0101  010121  010121000\n",
              "1        1  2018    01      206        ...      0   01  0101  010121  010121000\n",
              "2        1  2018    01      213        ...  30014   01  0101  010121  010121000\n",
              "3        1  2018    01      220        ...   9020   01  0101  010121  010121000\n",
              "4        1  2018    01      304        ...   1500   01  0101  010121  010121000\n",
              "\n",
              "[5 rows x 13 columns]"
            ]
          },
          "metadata": {},
          "execution_count": 45
        }
      ]
    },
    {
      "cell_type": "code",
      "source": [
        "print(\"Null Values:\\n\\n\", df_2018.isnull().sum(), \"\\n\")\n",
        "print(\"Duplicated Values: \", df_2018.duplicated().any())"
      ],
      "metadata": {
        "colab": {
          "base_uri": "https://localhost:8080/"
        },
        "id": "psHGKhPCIHku",
        "outputId": "8969361d-cda2-416a-e269-bf828a2617bc"
      },
      "execution_count": null,
      "outputs": [
        {
          "output_type": "stream",
          "name": "stdout",
          "text": [
            "Null Values:\n",
            "\n",
            " exp_imp    0\n",
            "Year       0\n",
            "month      0\n",
            "Country    0\n",
            "Unit1      0\n",
            "Unit2      0\n",
            "Q1         0\n",
            "Q2         0\n",
            "Value      0\n",
            "hs2        0\n",
            "hs4        0\n",
            "hs6        0\n",
            "hs9        0\n",
            "dtype: int64 \n",
            "\n",
            "Duplicated Values:  False\n"
          ]
        }
      ]
    },
    {
      "cell_type": "code",
      "source": [
        "print(\"Number of rows: \", len(df_2018))"
      ],
      "metadata": {
        "colab": {
          "base_uri": "https://localhost:8080/"
        },
        "id": "cqMkJUV8GAdf",
        "outputId": "02ce1a41-b04a-4bda-c68b-549dd7740e97"
      },
      "execution_count": null,
      "outputs": [
        {
          "output_type": "stream",
          "name": "stdout",
          "text": [
            "Number of rows:  2824056\n"
          ]
        }
      ]
    },
    {
      "cell_type": "markdown",
      "source": [
        "### **c. custom_2020.db**"
      ],
      "metadata": {
        "id": "sRZNJezOI11x"
      }
    },
    {
      "cell_type": "code",
      "source": [
        "custom_2020 = read_sqlite(\"kaggle_input/custom_2020.db\")\n",
        "print(custom_2020)"
      ],
      "metadata": {
        "colab": {
          "base_uri": "https://localhost:8080/"
        },
        "outputId": "90413b98-6db7-47d1-9756-df40cc92fffe",
        "id": "hkfBvaCGI-cD"
      },
      "execution_count": null,
      "outputs": [
        {
          "output_type": "stream",
          "name": "stdout",
          "text": [
            "{'custom_2020':          exp_imp  Year month  Country Unit1  ... hs2   hs4     hs6        hs9 Custom\n",
            "0              1  2020    01      103        ...  00  0000  000000  000000190    100\n",
            "1              1  2020    01      105        ...  00  0000  000000  000000190    100\n",
            "2              1  2020    01      106        ...  00  0000  000000  000000190    100\n",
            "3              1  2020    01      107        ...  00  0000  000000  000000190    100\n",
            "4              1  2020    01      108        ...  00  0000  000000  000000190    100\n",
            "...          ...   ...   ...      ...   ...  ...  ..   ...     ...        ...    ...\n",
            "4494107        2  2020    07      111    NO  ...  95  9506  950699  950699000    907\n",
            "4494108        2  2020    07      304    NO  ...  95  9506  950699  950699000    907\n",
            "4494109        2  2020    07      305    NO  ...  95  9506  950699  950699000    907\n",
            "4494110        2  2020    07      105        ...  96  9618  961800  961800000    907\n",
            "4494111        2  2020    07      218        ...  96  9618  961800  961800000    907\n",
            "\n",
            "[4494112 rows x 14 columns]}\n"
          ]
        }
      ]
    },
    {
      "cell_type": "code",
      "source": [
        "df_custom_2020 = custom_2020['custom_2020']\n",
        "df_custom_2020.head()"
      ],
      "metadata": {
        "colab": {
          "base_uri": "https://localhost:8080/",
          "height": 206
        },
        "outputId": "71c25967-f76d-472a-aecf-c8379294e3e9",
        "id": "jjtQknsfI-cF"
      },
      "execution_count": null,
      "outputs": [
        {
          "output_type": "execute_result",
          "data": {
            "text/html": [
              "\n",
              "  <div id=\"df-91cba2e0-871a-409d-9426-7b95f9e046fd\">\n",
              "    <div class=\"colab-df-container\">\n",
              "      <div>\n",
              "<style scoped>\n",
              "    .dataframe tbody tr th:only-of-type {\n",
              "        vertical-align: middle;\n",
              "    }\n",
              "\n",
              "    .dataframe tbody tr th {\n",
              "        vertical-align: top;\n",
              "    }\n",
              "\n",
              "    .dataframe thead th {\n",
              "        text-align: right;\n",
              "    }\n",
              "</style>\n",
              "<table border=\"1\" class=\"dataframe\">\n",
              "  <thead>\n",
              "    <tr style=\"text-align: right;\">\n",
              "      <th></th>\n",
              "      <th>exp_imp</th>\n",
              "      <th>Year</th>\n",
              "      <th>month</th>\n",
              "      <th>Country</th>\n",
              "      <th>Unit1</th>\n",
              "      <th>Unit2</th>\n",
              "      <th>Q1</th>\n",
              "      <th>Q2</th>\n",
              "      <th>Value</th>\n",
              "      <th>hs2</th>\n",
              "      <th>hs4</th>\n",
              "      <th>hs6</th>\n",
              "      <th>hs9</th>\n",
              "      <th>Custom</th>\n",
              "    </tr>\n",
              "  </thead>\n",
              "  <tbody>\n",
              "    <tr>\n",
              "      <th>0</th>\n",
              "      <td>1</td>\n",
              "      <td>2020</td>\n",
              "      <td>01</td>\n",
              "      <td>103</td>\n",
              "      <td></td>\n",
              "      <td>KG</td>\n",
              "      <td>0</td>\n",
              "      <td>526875</td>\n",
              "      <td>1150084</td>\n",
              "      <td>00</td>\n",
              "      <td>0000</td>\n",
              "      <td>000000</td>\n",
              "      <td>000000190</td>\n",
              "      <td>100</td>\n",
              "    </tr>\n",
              "    <tr>\n",
              "      <th>1</th>\n",
              "      <td>1</td>\n",
              "      <td>2020</td>\n",
              "      <td>01</td>\n",
              "      <td>105</td>\n",
              "      <td></td>\n",
              "      <td>KG</td>\n",
              "      <td>0</td>\n",
              "      <td>1241751</td>\n",
              "      <td>3830662</td>\n",
              "      <td>00</td>\n",
              "      <td>0000</td>\n",
              "      <td>000000</td>\n",
              "      <td>000000190</td>\n",
              "      <td>100</td>\n",
              "    </tr>\n",
              "    <tr>\n",
              "      <th>2</th>\n",
              "      <td>1</td>\n",
              "      <td>2020</td>\n",
              "      <td>01</td>\n",
              "      <td>106</td>\n",
              "      <td></td>\n",
              "      <td>KG</td>\n",
              "      <td>0</td>\n",
              "      <td>505391</td>\n",
              "      <td>1530045</td>\n",
              "      <td>00</td>\n",
              "      <td>0000</td>\n",
              "      <td>000000</td>\n",
              "      <td>000000190</td>\n",
              "      <td>100</td>\n",
              "    </tr>\n",
              "    <tr>\n",
              "      <th>3</th>\n",
              "      <td>1</td>\n",
              "      <td>2020</td>\n",
              "      <td>01</td>\n",
              "      <td>107</td>\n",
              "      <td></td>\n",
              "      <td>KG</td>\n",
              "      <td>0</td>\n",
              "      <td>1852</td>\n",
              "      <td>5150</td>\n",
              "      <td>00</td>\n",
              "      <td>0000</td>\n",
              "      <td>000000</td>\n",
              "      <td>000000190</td>\n",
              "      <td>100</td>\n",
              "    </tr>\n",
              "    <tr>\n",
              "      <th>4</th>\n",
              "      <td>1</td>\n",
              "      <td>2020</td>\n",
              "      <td>01</td>\n",
              "      <td>108</td>\n",
              "      <td></td>\n",
              "      <td>KG</td>\n",
              "      <td>0</td>\n",
              "      <td>455623</td>\n",
              "      <td>5664430</td>\n",
              "      <td>00</td>\n",
              "      <td>0000</td>\n",
              "      <td>000000</td>\n",
              "      <td>000000190</td>\n",
              "      <td>100</td>\n",
              "    </tr>\n",
              "  </tbody>\n",
              "</table>\n",
              "</div>\n",
              "      <button class=\"colab-df-convert\" onclick=\"convertToInteractive('df-91cba2e0-871a-409d-9426-7b95f9e046fd')\"\n",
              "              title=\"Convert this dataframe to an interactive table.\"\n",
              "              style=\"display:none;\">\n",
              "        \n",
              "  <svg xmlns=\"http://www.w3.org/2000/svg\" height=\"24px\"viewBox=\"0 0 24 24\"\n",
              "       width=\"24px\">\n",
              "    <path d=\"M0 0h24v24H0V0z\" fill=\"none\"/>\n",
              "    <path d=\"M18.56 5.44l.94 2.06.94-2.06 2.06-.94-2.06-.94-.94-2.06-.94 2.06-2.06.94zm-11 1L8.5 8.5l.94-2.06 2.06-.94-2.06-.94L8.5 2.5l-.94 2.06-2.06.94zm10 10l.94 2.06.94-2.06 2.06-.94-2.06-.94-.94-2.06-.94 2.06-2.06.94z\"/><path d=\"M17.41 7.96l-1.37-1.37c-.4-.4-.92-.59-1.43-.59-.52 0-1.04.2-1.43.59L10.3 9.45l-7.72 7.72c-.78.78-.78 2.05 0 2.83L4 21.41c.39.39.9.59 1.41.59.51 0 1.02-.2 1.41-.59l7.78-7.78 2.81-2.81c.8-.78.8-2.07 0-2.86zM5.41 20L4 18.59l7.72-7.72 1.47 1.35L5.41 20z\"/>\n",
              "  </svg>\n",
              "      </button>\n",
              "      \n",
              "  <style>\n",
              "    .colab-df-container {\n",
              "      display:flex;\n",
              "      flex-wrap:wrap;\n",
              "      gap: 12px;\n",
              "    }\n",
              "\n",
              "    .colab-df-convert {\n",
              "      background-color: #E8F0FE;\n",
              "      border: none;\n",
              "      border-radius: 50%;\n",
              "      cursor: pointer;\n",
              "      display: none;\n",
              "      fill: #1967D2;\n",
              "      height: 32px;\n",
              "      padding: 0 0 0 0;\n",
              "      width: 32px;\n",
              "    }\n",
              "\n",
              "    .colab-df-convert:hover {\n",
              "      background-color: #E2EBFA;\n",
              "      box-shadow: 0px 1px 2px rgba(60, 64, 67, 0.3), 0px 1px 3px 1px rgba(60, 64, 67, 0.15);\n",
              "      fill: #174EA6;\n",
              "    }\n",
              "\n",
              "    [theme=dark] .colab-df-convert {\n",
              "      background-color: #3B4455;\n",
              "      fill: #D2E3FC;\n",
              "    }\n",
              "\n",
              "    [theme=dark] .colab-df-convert:hover {\n",
              "      background-color: #434B5C;\n",
              "      box-shadow: 0px 1px 3px 1px rgba(0, 0, 0, 0.15);\n",
              "      filter: drop-shadow(0px 1px 2px rgba(0, 0, 0, 0.3));\n",
              "      fill: #FFFFFF;\n",
              "    }\n",
              "  </style>\n",
              "\n",
              "      <script>\n",
              "        const buttonEl =\n",
              "          document.querySelector('#df-91cba2e0-871a-409d-9426-7b95f9e046fd button.colab-df-convert');\n",
              "        buttonEl.style.display =\n",
              "          google.colab.kernel.accessAllowed ? 'block' : 'none';\n",
              "\n",
              "        async function convertToInteractive(key) {\n",
              "          const element = document.querySelector('#df-91cba2e0-871a-409d-9426-7b95f9e046fd');\n",
              "          const dataTable =\n",
              "            await google.colab.kernel.invokeFunction('convertToInteractive',\n",
              "                                                     [key], {});\n",
              "          if (!dataTable) return;\n",
              "\n",
              "          const docLinkHtml = 'Like what you see? Visit the ' +\n",
              "            '<a target=\"_blank\" href=https://colab.research.google.com/notebooks/data_table.ipynb>data table notebook</a>'\n",
              "            + ' to learn more about interactive tables.';\n",
              "          element.innerHTML = '';\n",
              "          dataTable['output_type'] = 'display_data';\n",
              "          await google.colab.output.renderOutput(dataTable, element);\n",
              "          const docLink = document.createElement('div');\n",
              "          docLink.innerHTML = docLinkHtml;\n",
              "          element.appendChild(docLink);\n",
              "        }\n",
              "      </script>\n",
              "    </div>\n",
              "  </div>\n",
              "  "
            ],
            "text/plain": [
              "   exp_imp  Year month  Country Unit1  ... hs2   hs4     hs6        hs9 Custom\n",
              "0        1  2020    01      103        ...  00  0000  000000  000000190    100\n",
              "1        1  2020    01      105        ...  00  0000  000000  000000190    100\n",
              "2        1  2020    01      106        ...  00  0000  000000  000000190    100\n",
              "3        1  2020    01      107        ...  00  0000  000000  000000190    100\n",
              "4        1  2020    01      108        ...  00  0000  000000  000000190    100\n",
              "\n",
              "[5 rows x 14 columns]"
            ]
          },
          "metadata": {},
          "execution_count": 75
        }
      ]
    },
    {
      "cell_type": "code",
      "source": [
        "print(\"Number of rows: \", len(df_custom_2020))"
      ],
      "metadata": {
        "colab": {
          "base_uri": "https://localhost:8080/"
        },
        "outputId": "4aebd36e-391e-48e2-93f1-97f390f828b1",
        "id": "G7xrImYMI-cH"
      },
      "execution_count": null,
      "outputs": [
        {
          "output_type": "stream",
          "name": "stdout",
          "text": [
            "Number of rows:  4494112\n"
          ]
        }
      ]
    },
    {
      "cell_type": "code",
      "source": [
        "print(\"Null Values:\\n\\n\", df_custom_2020.isnull().sum(), \"\\n\")\n",
        "print(\"Duplicated Values: \", df_custom_2020.duplicated().any())"
      ],
      "metadata": {
        "colab": {
          "base_uri": "https://localhost:8080/"
        },
        "outputId": "fc9e6e06-15c1-49b7-ea76-f4310a56d337",
        "id": "2-zDcw1vI-cG"
      },
      "execution_count": null,
      "outputs": [
        {
          "output_type": "stream",
          "name": "stdout",
          "text": [
            "Null Values:\n",
            "\n",
            " exp_imp    0\n",
            "Year       0\n",
            "month      0\n",
            "Country    0\n",
            "Unit1      0\n",
            "Unit2      0\n",
            "Q1         0\n",
            "Q2         0\n",
            "Value      0\n",
            "hs2        0\n",
            "hs4        0\n",
            "hs6        0\n",
            "hs9        0\n",
            "Custom     0\n",
            "dtype: int64 \n",
            "\n",
            "Duplicated Values:  False\n"
          ]
        }
      ]
    },
    {
      "cell_type": "code",
      "source": [
        "unknown_countries = [country for country in df_custom_2020['Country'].unique() if country not in code_to_name]\n",
        "print(unknown_countries)"
      ],
      "metadata": {
        "colab": {
          "base_uri": "https://localhost:8080/"
        },
        "id": "6AR_Css9PSkV",
        "outputId": "d1cf2f69-a3ae-4bd6-8c00-42a22825f3c0"
      },
      "execution_count": null,
      "outputs": [
        {
          "output_type": "stream",
          "name": "stdout",
          "text": [
            "[338, 250, 249]\n"
          ]
        }
      ]
    },
    {
      "cell_type": "code",
      "source": [
        "df_custom_2020 = df_custom_2020[ df_custom_2020['Country'].isin(unknown_countries)==False ]"
      ],
      "metadata": {
        "id": "T3uhPG4yP6Ai"
      },
      "execution_count": null,
      "outputs": []
    },
    {
      "cell_type": "code",
      "source": [
        "df_custom_2020['Country'].replace(code_to_name, inplace=True)\n",
        "df_custom_2020.head()"
      ],
      "metadata": {
        "colab": {
          "base_uri": "https://localhost:8080/",
          "height": 297
        },
        "id": "T6RjwcDXL41N",
        "outputId": "ec97acea-7327-4ad2-b1eb-7e5f4967f0e9"
      },
      "execution_count": null,
      "outputs": [
        {
          "output_type": "stream",
          "name": "stderr",
          "text": [
            "/usr/local/lib/python3.7/dist-packages/pandas/core/generic.py:6619: SettingWithCopyWarning: \n",
            "A value is trying to be set on a copy of a slice from a DataFrame\n",
            "\n",
            "See the caveats in the documentation: https://pandas.pydata.org/pandas-docs/stable/user_guide/indexing.html#returning-a-view-versus-a-copy\n",
            "  return self._update_inplace(result)\n"
          ]
        },
        {
          "output_type": "execute_result",
          "data": {
            "text/html": [
              "\n",
              "  <div id=\"df-00ca7fd8-4659-4c3d-8cb7-ba60f79f270c\">\n",
              "    <div class=\"colab-df-container\">\n",
              "      <div>\n",
              "<style scoped>\n",
              "    .dataframe tbody tr th:only-of-type {\n",
              "        vertical-align: middle;\n",
              "    }\n",
              "\n",
              "    .dataframe tbody tr th {\n",
              "        vertical-align: top;\n",
              "    }\n",
              "\n",
              "    .dataframe thead th {\n",
              "        text-align: right;\n",
              "    }\n",
              "</style>\n",
              "<table border=\"1\" class=\"dataframe\">\n",
              "  <thead>\n",
              "    <tr style=\"text-align: right;\">\n",
              "      <th></th>\n",
              "      <th>exp_imp</th>\n",
              "      <th>Year</th>\n",
              "      <th>month</th>\n",
              "      <th>Country</th>\n",
              "      <th>Unit1</th>\n",
              "      <th>Unit2</th>\n",
              "      <th>Q1</th>\n",
              "      <th>Q2</th>\n",
              "      <th>Value</th>\n",
              "      <th>hs2</th>\n",
              "      <th>hs4</th>\n",
              "      <th>hs6</th>\n",
              "      <th>hs9</th>\n",
              "      <th>Custom</th>\n",
              "    </tr>\n",
              "  </thead>\n",
              "  <tbody>\n",
              "    <tr>\n",
              "      <th>0</th>\n",
              "      <td>1</td>\n",
              "      <td>2020</td>\n",
              "      <td>01</td>\n",
              "      <td>Korea</td>\n",
              "      <td></td>\n",
              "      <td>KG</td>\n",
              "      <td>0</td>\n",
              "      <td>526875</td>\n",
              "      <td>1150084</td>\n",
              "      <td>00</td>\n",
              "      <td>0000</td>\n",
              "      <td>000000</td>\n",
              "      <td>000000190</td>\n",
              "      <td>100</td>\n",
              "    </tr>\n",
              "    <tr>\n",
              "      <th>1</th>\n",
              "      <td>1</td>\n",
              "      <td>2020</td>\n",
              "      <td>01</td>\n",
              "      <td>China</td>\n",
              "      <td></td>\n",
              "      <td>KG</td>\n",
              "      <td>0</td>\n",
              "      <td>1241751</td>\n",
              "      <td>3830662</td>\n",
              "      <td>00</td>\n",
              "      <td>0000</td>\n",
              "      <td>000000</td>\n",
              "      <td>000000190</td>\n",
              "      <td>100</td>\n",
              "    </tr>\n",
              "    <tr>\n",
              "      <th>2</th>\n",
              "      <td>1</td>\n",
              "      <td>2020</td>\n",
              "      <td>01</td>\n",
              "      <td>Taiwan</td>\n",
              "      <td></td>\n",
              "      <td>KG</td>\n",
              "      <td>0</td>\n",
              "      <td>505391</td>\n",
              "      <td>1530045</td>\n",
              "      <td>00</td>\n",
              "      <td>0000</td>\n",
              "      <td>000000</td>\n",
              "      <td>000000190</td>\n",
              "      <td>100</td>\n",
              "    </tr>\n",
              "    <tr>\n",
              "      <th>3</th>\n",
              "      <td>1</td>\n",
              "      <td>2020</td>\n",
              "      <td>01</td>\n",
              "      <td>Mongolia</td>\n",
              "      <td></td>\n",
              "      <td>KG</td>\n",
              "      <td>0</td>\n",
              "      <td>1852</td>\n",
              "      <td>5150</td>\n",
              "      <td>00</td>\n",
              "      <td>0000</td>\n",
              "      <td>000000</td>\n",
              "      <td>000000190</td>\n",
              "      <td>100</td>\n",
              "    </tr>\n",
              "    <tr>\n",
              "      <th>4</th>\n",
              "      <td>1</td>\n",
              "      <td>2020</td>\n",
              "      <td>01</td>\n",
              "      <td>Hong_Kong</td>\n",
              "      <td></td>\n",
              "      <td>KG</td>\n",
              "      <td>0</td>\n",
              "      <td>455623</td>\n",
              "      <td>5664430</td>\n",
              "      <td>00</td>\n",
              "      <td>0000</td>\n",
              "      <td>000000</td>\n",
              "      <td>000000190</td>\n",
              "      <td>100</td>\n",
              "    </tr>\n",
              "  </tbody>\n",
              "</table>\n",
              "</div>\n",
              "      <button class=\"colab-df-convert\" onclick=\"convertToInteractive('df-00ca7fd8-4659-4c3d-8cb7-ba60f79f270c')\"\n",
              "              title=\"Convert this dataframe to an interactive table.\"\n",
              "              style=\"display:none;\">\n",
              "        \n",
              "  <svg xmlns=\"http://www.w3.org/2000/svg\" height=\"24px\"viewBox=\"0 0 24 24\"\n",
              "       width=\"24px\">\n",
              "    <path d=\"M0 0h24v24H0V0z\" fill=\"none\"/>\n",
              "    <path d=\"M18.56 5.44l.94 2.06.94-2.06 2.06-.94-2.06-.94-.94-2.06-.94 2.06-2.06.94zm-11 1L8.5 8.5l.94-2.06 2.06-.94-2.06-.94L8.5 2.5l-.94 2.06-2.06.94zm10 10l.94 2.06.94-2.06 2.06-.94-2.06-.94-.94-2.06-.94 2.06-2.06.94z\"/><path d=\"M17.41 7.96l-1.37-1.37c-.4-.4-.92-.59-1.43-.59-.52 0-1.04.2-1.43.59L10.3 9.45l-7.72 7.72c-.78.78-.78 2.05 0 2.83L4 21.41c.39.39.9.59 1.41.59.51 0 1.02-.2 1.41-.59l7.78-7.78 2.81-2.81c.8-.78.8-2.07 0-2.86zM5.41 20L4 18.59l7.72-7.72 1.47 1.35L5.41 20z\"/>\n",
              "  </svg>\n",
              "      </button>\n",
              "      \n",
              "  <style>\n",
              "    .colab-df-container {\n",
              "      display:flex;\n",
              "      flex-wrap:wrap;\n",
              "      gap: 12px;\n",
              "    }\n",
              "\n",
              "    .colab-df-convert {\n",
              "      background-color: #E8F0FE;\n",
              "      border: none;\n",
              "      border-radius: 50%;\n",
              "      cursor: pointer;\n",
              "      display: none;\n",
              "      fill: #1967D2;\n",
              "      height: 32px;\n",
              "      padding: 0 0 0 0;\n",
              "      width: 32px;\n",
              "    }\n",
              "\n",
              "    .colab-df-convert:hover {\n",
              "      background-color: #E2EBFA;\n",
              "      box-shadow: 0px 1px 2px rgba(60, 64, 67, 0.3), 0px 1px 3px 1px rgba(60, 64, 67, 0.15);\n",
              "      fill: #174EA6;\n",
              "    }\n",
              "\n",
              "    [theme=dark] .colab-df-convert {\n",
              "      background-color: #3B4455;\n",
              "      fill: #D2E3FC;\n",
              "    }\n",
              "\n",
              "    [theme=dark] .colab-df-convert:hover {\n",
              "      background-color: #434B5C;\n",
              "      box-shadow: 0px 1px 3px 1px rgba(0, 0, 0, 0.15);\n",
              "      filter: drop-shadow(0px 1px 2px rgba(0, 0, 0, 0.3));\n",
              "      fill: #FFFFFF;\n",
              "    }\n",
              "  </style>\n",
              "\n",
              "      <script>\n",
              "        const buttonEl =\n",
              "          document.querySelector('#df-00ca7fd8-4659-4c3d-8cb7-ba60f79f270c button.colab-df-convert');\n",
              "        buttonEl.style.display =\n",
              "          google.colab.kernel.accessAllowed ? 'block' : 'none';\n",
              "\n",
              "        async function convertToInteractive(key) {\n",
              "          const element = document.querySelector('#df-00ca7fd8-4659-4c3d-8cb7-ba60f79f270c');\n",
              "          const dataTable =\n",
              "            await google.colab.kernel.invokeFunction('convertToInteractive',\n",
              "                                                     [key], {});\n",
              "          if (!dataTable) return;\n",
              "\n",
              "          const docLinkHtml = 'Like what you see? Visit the ' +\n",
              "            '<a target=\"_blank\" href=https://colab.research.google.com/notebooks/data_table.ipynb>data table notebook</a>'\n",
              "            + ' to learn more about interactive tables.';\n",
              "          element.innerHTML = '';\n",
              "          dataTable['output_type'] = 'display_data';\n",
              "          await google.colab.output.renderOutput(dataTable, element);\n",
              "          const docLink = document.createElement('div');\n",
              "          docLink.innerHTML = docLinkHtml;\n",
              "          element.appendChild(docLink);\n",
              "        }\n",
              "      </script>\n",
              "    </div>\n",
              "  </div>\n",
              "  "
            ],
            "text/plain": [
              "   exp_imp  Year month    Country Unit1  ... hs2   hs4     hs6        hs9 Custom\n",
              "0        1  2020    01      Korea        ...  00  0000  000000  000000190    100\n",
              "1        1  2020    01      China        ...  00  0000  000000  000000190    100\n",
              "2        1  2020    01     Taiwan        ...  00  0000  000000  000000190    100\n",
              "3        1  2020    01   Mongolia        ...  00  0000  000000  000000190    100\n",
              "4        1  2020    01  Hong_Kong        ...  00  0000  000000  000000190    100\n",
              "\n",
              "[5 rows x 14 columns]"
            ]
          },
          "metadata": {},
          "execution_count": 79
        }
      ]
    },
    {
      "cell_type": "code",
      "source": [
        "pd.DataFrame( df_custom_2020.groupby(['month','Country']).sum() ).head()"
      ],
      "metadata": {
        "colab": {
          "base_uri": "https://localhost:8080/",
          "height": 237
        },
        "id": "EY_rAc0AI7Na",
        "outputId": "e70a945a-5c06-4c26-fc17-de075141fae0"
      },
      "execution_count": null,
      "outputs": [
        {
          "output_type": "execute_result",
          "data": {
            "text/html": [
              "\n",
              "  <div id=\"df-50d790cb-3eff-4a10-9633-a116734c9b90\">\n",
              "    <div class=\"colab-df-container\">\n",
              "      <div>\n",
              "<style scoped>\n",
              "    .dataframe tbody tr th:only-of-type {\n",
              "        vertical-align: middle;\n",
              "    }\n",
              "\n",
              "    .dataframe tbody tr th {\n",
              "        vertical-align: top;\n",
              "    }\n",
              "\n",
              "    .dataframe thead th {\n",
              "        text-align: right;\n",
              "    }\n",
              "</style>\n",
              "<table border=\"1\" class=\"dataframe\">\n",
              "  <thead>\n",
              "    <tr style=\"text-align: right;\">\n",
              "      <th></th>\n",
              "      <th></th>\n",
              "      <th>exp_imp</th>\n",
              "      <th>Year</th>\n",
              "      <th>Q1</th>\n",
              "      <th>Q2</th>\n",
              "      <th>Value</th>\n",
              "    </tr>\n",
              "    <tr>\n",
              "      <th>month</th>\n",
              "      <th>Country</th>\n",
              "      <th></th>\n",
              "      <th></th>\n",
              "      <th></th>\n",
              "      <th></th>\n",
              "      <th></th>\n",
              "    </tr>\n",
              "  </thead>\n",
              "  <tbody>\n",
              "    <tr>\n",
              "      <th rowspan=\"5\" valign=\"top\">01</th>\n",
              "      <th>Afghanistan</th>\n",
              "      <td>152</td>\n",
              "      <td>288860</td>\n",
              "      <td>178300</td>\n",
              "      <td>266953</td>\n",
              "      <td>376338</td>\n",
              "    </tr>\n",
              "    <tr>\n",
              "      <th>Albania</th>\n",
              "      <td>326</td>\n",
              "      <td>369660</td>\n",
              "      <td>23601</td>\n",
              "      <td>117004</td>\n",
              "      <td>152643</td>\n",
              "    </tr>\n",
              "    <tr>\n",
              "      <th>Algeria</th>\n",
              "      <td>352</td>\n",
              "      <td>684780</td>\n",
              "      <td>35719</td>\n",
              "      <td>23745051</td>\n",
              "      <td>3294847</td>\n",
              "    </tr>\n",
              "    <tr>\n",
              "      <th>American_Oceania</th>\n",
              "      <td>18</td>\n",
              "      <td>18180</td>\n",
              "      <td>88</td>\n",
              "      <td>59</td>\n",
              "      <td>10480</td>\n",
              "    </tr>\n",
              "    <tr>\n",
              "      <th>American_Samoa</th>\n",
              "      <td>23</td>\n",
              "      <td>42420</td>\n",
              "      <td>0</td>\n",
              "      <td>73</td>\n",
              "      <td>11314</td>\n",
              "    </tr>\n",
              "  </tbody>\n",
              "</table>\n",
              "</div>\n",
              "      <button class=\"colab-df-convert\" onclick=\"convertToInteractive('df-50d790cb-3eff-4a10-9633-a116734c9b90')\"\n",
              "              title=\"Convert this dataframe to an interactive table.\"\n",
              "              style=\"display:none;\">\n",
              "        \n",
              "  <svg xmlns=\"http://www.w3.org/2000/svg\" height=\"24px\"viewBox=\"0 0 24 24\"\n",
              "       width=\"24px\">\n",
              "    <path d=\"M0 0h24v24H0V0z\" fill=\"none\"/>\n",
              "    <path d=\"M18.56 5.44l.94 2.06.94-2.06 2.06-.94-2.06-.94-.94-2.06-.94 2.06-2.06.94zm-11 1L8.5 8.5l.94-2.06 2.06-.94-2.06-.94L8.5 2.5l-.94 2.06-2.06.94zm10 10l.94 2.06.94-2.06 2.06-.94-2.06-.94-.94-2.06-.94 2.06-2.06.94z\"/><path d=\"M17.41 7.96l-1.37-1.37c-.4-.4-.92-.59-1.43-.59-.52 0-1.04.2-1.43.59L10.3 9.45l-7.72 7.72c-.78.78-.78 2.05 0 2.83L4 21.41c.39.39.9.59 1.41.59.51 0 1.02-.2 1.41-.59l7.78-7.78 2.81-2.81c.8-.78.8-2.07 0-2.86zM5.41 20L4 18.59l7.72-7.72 1.47 1.35L5.41 20z\"/>\n",
              "  </svg>\n",
              "      </button>\n",
              "      \n",
              "  <style>\n",
              "    .colab-df-container {\n",
              "      display:flex;\n",
              "      flex-wrap:wrap;\n",
              "      gap: 12px;\n",
              "    }\n",
              "\n",
              "    .colab-df-convert {\n",
              "      background-color: #E8F0FE;\n",
              "      border: none;\n",
              "      border-radius: 50%;\n",
              "      cursor: pointer;\n",
              "      display: none;\n",
              "      fill: #1967D2;\n",
              "      height: 32px;\n",
              "      padding: 0 0 0 0;\n",
              "      width: 32px;\n",
              "    }\n",
              "\n",
              "    .colab-df-convert:hover {\n",
              "      background-color: #E2EBFA;\n",
              "      box-shadow: 0px 1px 2px rgba(60, 64, 67, 0.3), 0px 1px 3px 1px rgba(60, 64, 67, 0.15);\n",
              "      fill: #174EA6;\n",
              "    }\n",
              "\n",
              "    [theme=dark] .colab-df-convert {\n",
              "      background-color: #3B4455;\n",
              "      fill: #D2E3FC;\n",
              "    }\n",
              "\n",
              "    [theme=dark] .colab-df-convert:hover {\n",
              "      background-color: #434B5C;\n",
              "      box-shadow: 0px 1px 3px 1px rgba(0, 0, 0, 0.15);\n",
              "      filter: drop-shadow(0px 1px 2px rgba(0, 0, 0, 0.3));\n",
              "      fill: #FFFFFF;\n",
              "    }\n",
              "  </style>\n",
              "\n",
              "      <script>\n",
              "        const buttonEl =\n",
              "          document.querySelector('#df-50d790cb-3eff-4a10-9633-a116734c9b90 button.colab-df-convert');\n",
              "        buttonEl.style.display =\n",
              "          google.colab.kernel.accessAllowed ? 'block' : 'none';\n",
              "\n",
              "        async function convertToInteractive(key) {\n",
              "          const element = document.querySelector('#df-50d790cb-3eff-4a10-9633-a116734c9b90');\n",
              "          const dataTable =\n",
              "            await google.colab.kernel.invokeFunction('convertToInteractive',\n",
              "                                                     [key], {});\n",
              "          if (!dataTable) return;\n",
              "\n",
              "          const docLinkHtml = 'Like what you see? Visit the ' +\n",
              "            '<a target=\"_blank\" href=https://colab.research.google.com/notebooks/data_table.ipynb>data table notebook</a>'\n",
              "            + ' to learn more about interactive tables.';\n",
              "          element.innerHTML = '';\n",
              "          dataTable['output_type'] = 'display_data';\n",
              "          await google.colab.output.renderOutput(dataTable, element);\n",
              "          const docLink = document.createElement('div');\n",
              "          docLink.innerHTML = docLinkHtml;\n",
              "          element.appendChild(docLink);\n",
              "        }\n",
              "      </script>\n",
              "    </div>\n",
              "  </div>\n",
              "  "
            ],
            "text/plain": [
              "                        exp_imp    Year      Q1        Q2    Value\n",
              "month Country                                                     \n",
              "01    Afghanistan           152  288860  178300    266953   376338\n",
              "      Albania               326  369660   23601    117004   152643\n",
              "      Algeria               352  684780   35719  23745051  3294847\n",
              "      American_Oceania       18   18180      88        59    10480\n",
              "      American_Samoa         23   42420       0        73    11314"
            ]
          },
          "metadata": {},
          "execution_count": 80
        }
      ]
    },
    {
      "cell_type": "markdown",
      "source": [
        "### **D. custom_from_2012.db**"
      ],
      "metadata": {
        "id": "AJp86myUs1nz"
      }
    },
    {
      "cell_type": "code",
      "source": [
        "custom_from_2012 = read_sqlite(\"kaggle_input/custom_from_2012.db\")\n",
        "print(custom_from_2012)"
      ],
      "metadata": {
        "colab": {
          "base_uri": "https://localhost:8080/"
        },
        "outputId": "5223827a-c478-46a8-ea26-91caa3dc0905",
        "id": "uoJafHz6s1n0"
      },
      "execution_count": 3,
      "outputs": [
        {
          "output_type": "stream",
          "name": "stdout",
          "text": [
            "The tables in this file are:  dict_keys(['custom_year_from_2012']) \n",
            "\n",
            "\n",
            "{'custom_year_from_2012':          Country Custom    Q1       Q2 Unit1  ... hs2   hs4     hs6        hs9 index\n",
            "0            103    100     0  6737598        ...  00  0000  000000  000000190   0.0\n",
            "1            103    100     0      849        ...  03  0303  030342  030342000   1.0\n",
            "2            103    100     0     3518        ...  03  0303  030344  030344000   2.0\n",
            "3            103    100     0      316        ...  03  0303  030345  030345200   3.0\n",
            "4            103    100     0   235623        ...  03  0303  030353  030353000   4.0\n",
            "...          ...    ...   ...      ...   ...  ...  ..   ...     ...        ...   ...\n",
            "10228328     702    404  1331  1081505    KL  ...  27  2710  271019  271019143      \n",
            "10228329     702    520    36    30955    KL  ...  27  2710  271019  271019165      \n",
            "10228330     702    520    13    11048    KL  ...  27  2710  271019  271019167      \n",
            "10228331     702    812    10     8618    KL  ...  27  2710  271019  271019143      \n",
            "10228332     702    907     6     5849    KL  ...  27  2710  271019  271019143      \n",
            "\n",
            "[10228333 rows x 14 columns]}\n"
          ]
        }
      ]
    },
    {
      "cell_type": "code",
      "source": [
        "df_custom_from_2012 = custom_from_2012['custom_year_from_2012']\n",
        "df_custom_from_2012.head()"
      ],
      "metadata": {
        "colab": {
          "base_uri": "https://localhost:8080/",
          "height": 206
        },
        "outputId": "f0a98b6c-8f64-476d-d6c6-d8db333a8ff8",
        "id": "HY3cCeu0s1n2"
      },
      "execution_count": 5,
      "outputs": [
        {
          "output_type": "execute_result",
          "data": {
            "text/html": [
              "\n",
              "  <div id=\"df-2b9d52af-802b-4ebb-918e-7efaff415902\">\n",
              "    <div class=\"colab-df-container\">\n",
              "      <div>\n",
              "<style scoped>\n",
              "    .dataframe tbody tr th:only-of-type {\n",
              "        vertical-align: middle;\n",
              "    }\n",
              "\n",
              "    .dataframe tbody tr th {\n",
              "        vertical-align: top;\n",
              "    }\n",
              "\n",
              "    .dataframe thead th {\n",
              "        text-align: right;\n",
              "    }\n",
              "</style>\n",
              "<table border=\"1\" class=\"dataframe\">\n",
              "  <thead>\n",
              "    <tr style=\"text-align: right;\">\n",
              "      <th></th>\n",
              "      <th>Country</th>\n",
              "      <th>Custom</th>\n",
              "      <th>Q1</th>\n",
              "      <th>Q2</th>\n",
              "      <th>Unit1</th>\n",
              "      <th>Unit2</th>\n",
              "      <th>Value</th>\n",
              "      <th>Year</th>\n",
              "      <th>exp_imp</th>\n",
              "      <th>hs2</th>\n",
              "      <th>hs4</th>\n",
              "      <th>hs6</th>\n",
              "      <th>hs9</th>\n",
              "      <th>index</th>\n",
              "    </tr>\n",
              "  </thead>\n",
              "  <tbody>\n",
              "    <tr>\n",
              "      <th>0</th>\n",
              "      <td>103</td>\n",
              "      <td>100</td>\n",
              "      <td>0</td>\n",
              "      <td>6737598</td>\n",
              "      <td></td>\n",
              "      <td>KG</td>\n",
              "      <td>14214474</td>\n",
              "      <td>2012</td>\n",
              "      <td>1</td>\n",
              "      <td>00</td>\n",
              "      <td>0000</td>\n",
              "      <td>000000</td>\n",
              "      <td>000000190</td>\n",
              "      <td>0.0</td>\n",
              "    </tr>\n",
              "    <tr>\n",
              "      <th>1</th>\n",
              "      <td>103</td>\n",
              "      <td>100</td>\n",
              "      <td>0</td>\n",
              "      <td>849</td>\n",
              "      <td></td>\n",
              "      <td>KG</td>\n",
              "      <td>297</td>\n",
              "      <td>2012</td>\n",
              "      <td>1</td>\n",
              "      <td>03</td>\n",
              "      <td>0303</td>\n",
              "      <td>030342</td>\n",
              "      <td>030342000</td>\n",
              "      <td>1.0</td>\n",
              "    </tr>\n",
              "    <tr>\n",
              "      <th>2</th>\n",
              "      <td>103</td>\n",
              "      <td>100</td>\n",
              "      <td>0</td>\n",
              "      <td>3518</td>\n",
              "      <td></td>\n",
              "      <td>KG</td>\n",
              "      <td>1583</td>\n",
              "      <td>2012</td>\n",
              "      <td>1</td>\n",
              "      <td>03</td>\n",
              "      <td>0303</td>\n",
              "      <td>030344</td>\n",
              "      <td>030344000</td>\n",
              "      <td>2.0</td>\n",
              "    </tr>\n",
              "    <tr>\n",
              "      <th>3</th>\n",
              "      <td>103</td>\n",
              "      <td>100</td>\n",
              "      <td>0</td>\n",
              "      <td>316</td>\n",
              "      <td></td>\n",
              "      <td>KG</td>\n",
              "      <td>379</td>\n",
              "      <td>2012</td>\n",
              "      <td>1</td>\n",
              "      <td>03</td>\n",
              "      <td>0303</td>\n",
              "      <td>030345</td>\n",
              "      <td>030345200</td>\n",
              "      <td>3.0</td>\n",
              "    </tr>\n",
              "    <tr>\n",
              "      <th>4</th>\n",
              "      <td>103</td>\n",
              "      <td>100</td>\n",
              "      <td>0</td>\n",
              "      <td>235623</td>\n",
              "      <td></td>\n",
              "      <td>KG</td>\n",
              "      <td>14344</td>\n",
              "      <td>2012</td>\n",
              "      <td>1</td>\n",
              "      <td>03</td>\n",
              "      <td>0303</td>\n",
              "      <td>030353</td>\n",
              "      <td>030353000</td>\n",
              "      <td>4.0</td>\n",
              "    </tr>\n",
              "  </tbody>\n",
              "</table>\n",
              "</div>\n",
              "      <button class=\"colab-df-convert\" onclick=\"convertToInteractive('df-2b9d52af-802b-4ebb-918e-7efaff415902')\"\n",
              "              title=\"Convert this dataframe to an interactive table.\"\n",
              "              style=\"display:none;\">\n",
              "        \n",
              "  <svg xmlns=\"http://www.w3.org/2000/svg\" height=\"24px\"viewBox=\"0 0 24 24\"\n",
              "       width=\"24px\">\n",
              "    <path d=\"M0 0h24v24H0V0z\" fill=\"none\"/>\n",
              "    <path d=\"M18.56 5.44l.94 2.06.94-2.06 2.06-.94-2.06-.94-.94-2.06-.94 2.06-2.06.94zm-11 1L8.5 8.5l.94-2.06 2.06-.94-2.06-.94L8.5 2.5l-.94 2.06-2.06.94zm10 10l.94 2.06.94-2.06 2.06-.94-2.06-.94-.94-2.06-.94 2.06-2.06.94z\"/><path d=\"M17.41 7.96l-1.37-1.37c-.4-.4-.92-.59-1.43-.59-.52 0-1.04.2-1.43.59L10.3 9.45l-7.72 7.72c-.78.78-.78 2.05 0 2.83L4 21.41c.39.39.9.59 1.41.59.51 0 1.02-.2 1.41-.59l7.78-7.78 2.81-2.81c.8-.78.8-2.07 0-2.86zM5.41 20L4 18.59l7.72-7.72 1.47 1.35L5.41 20z\"/>\n",
              "  </svg>\n",
              "      </button>\n",
              "      \n",
              "  <style>\n",
              "    .colab-df-container {\n",
              "      display:flex;\n",
              "      flex-wrap:wrap;\n",
              "      gap: 12px;\n",
              "    }\n",
              "\n",
              "    .colab-df-convert {\n",
              "      background-color: #E8F0FE;\n",
              "      border: none;\n",
              "      border-radius: 50%;\n",
              "      cursor: pointer;\n",
              "      display: none;\n",
              "      fill: #1967D2;\n",
              "      height: 32px;\n",
              "      padding: 0 0 0 0;\n",
              "      width: 32px;\n",
              "    }\n",
              "\n",
              "    .colab-df-convert:hover {\n",
              "      background-color: #E2EBFA;\n",
              "      box-shadow: 0px 1px 2px rgba(60, 64, 67, 0.3), 0px 1px 3px 1px rgba(60, 64, 67, 0.15);\n",
              "      fill: #174EA6;\n",
              "    }\n",
              "\n",
              "    [theme=dark] .colab-df-convert {\n",
              "      background-color: #3B4455;\n",
              "      fill: #D2E3FC;\n",
              "    }\n",
              "\n",
              "    [theme=dark] .colab-df-convert:hover {\n",
              "      background-color: #434B5C;\n",
              "      box-shadow: 0px 1px 3px 1px rgba(0, 0, 0, 0.15);\n",
              "      filter: drop-shadow(0px 1px 2px rgba(0, 0, 0, 0.3));\n",
              "      fill: #FFFFFF;\n",
              "    }\n",
              "  </style>\n",
              "\n",
              "      <script>\n",
              "        const buttonEl =\n",
              "          document.querySelector('#df-2b9d52af-802b-4ebb-918e-7efaff415902 button.colab-df-convert');\n",
              "        buttonEl.style.display =\n",
              "          google.colab.kernel.accessAllowed ? 'block' : 'none';\n",
              "\n",
              "        async function convertToInteractive(key) {\n",
              "          const element = document.querySelector('#df-2b9d52af-802b-4ebb-918e-7efaff415902');\n",
              "          const dataTable =\n",
              "            await google.colab.kernel.invokeFunction('convertToInteractive',\n",
              "                                                     [key], {});\n",
              "          if (!dataTable) return;\n",
              "\n",
              "          const docLinkHtml = 'Like what you see? Visit the ' +\n",
              "            '<a target=\"_blank\" href=https://colab.research.google.com/notebooks/data_table.ipynb>data table notebook</a>'\n",
              "            + ' to learn more about interactive tables.';\n",
              "          element.innerHTML = '';\n",
              "          dataTable['output_type'] = 'display_data';\n",
              "          await google.colab.output.renderOutput(dataTable, element);\n",
              "          const docLink = document.createElement('div');\n",
              "          docLink.innerHTML = docLinkHtml;\n",
              "          element.appendChild(docLink);\n",
              "        }\n",
              "      </script>\n",
              "    </div>\n",
              "  </div>\n",
              "  "
            ],
            "text/plain": [
              "  Country Custom  Q1       Q2 Unit1  ... hs2   hs4     hs6        hs9 index\n",
              "0     103    100   0  6737598        ...  00  0000  000000  000000190   0.0\n",
              "1     103    100   0      849        ...  03  0303  030342  030342000   1.0\n",
              "2     103    100   0     3518        ...  03  0303  030344  030344000   2.0\n",
              "3     103    100   0      316        ...  03  0303  030345  030345200   3.0\n",
              "4     103    100   0   235623        ...  03  0303  030353  030353000   4.0\n",
              "\n",
              "[5 rows x 14 columns]"
            ]
          },
          "metadata": {},
          "execution_count": 5
        }
      ]
    },
    {
      "cell_type": "code",
      "source": [
        "print(\"Number of rows: \", len(df_custom_from_2012))"
      ],
      "metadata": {
        "colab": {
          "base_uri": "https://localhost:8080/"
        },
        "outputId": "7599cc20-8d43-4bfc-965b-7fb6061e380b",
        "id": "mHoR-fnds1n3"
      },
      "execution_count": 6,
      "outputs": [
        {
          "output_type": "stream",
          "name": "stdout",
          "text": [
            "Number of rows:  10228333\n"
          ]
        }
      ]
    },
    {
      "cell_type": "code",
      "source": [
        "print(\"Null Values:\\n\\n\", df_custom_from_2012.isnull().sum(), \"\\n\")\n",
        "print(\"Duplicated Values: \", df_custom_from_2012.duplicated().any())"
      ],
      "metadata": {
        "colab": {
          "base_uri": "https://localhost:8080/"
        },
        "outputId": "fc9e6e06-15c1-49b7-ea76-f4310a56d337",
        "id": "vtbpn9SCs1n3"
      },
      "execution_count": null,
      "outputs": [
        {
          "output_type": "stream",
          "name": "stdout",
          "text": [
            "Null Values:\n",
            "\n",
            " exp_imp    0\n",
            "Year       0\n",
            "month      0\n",
            "Country    0\n",
            "Unit1      0\n",
            "Unit2      0\n",
            "Q1         0\n",
            "Q2         0\n",
            "Value      0\n",
            "hs2        0\n",
            "hs4        0\n",
            "hs6        0\n",
            "hs9        0\n",
            "Custom     0\n",
            "dtype: int64 \n",
            "\n",
            "Duplicated Values:  False\n"
          ]
        }
      ]
    },
    {
      "cell_type": "code",
      "source": [
        "unknown_countries = [country for country in df_custom_from_2012['Country'].unique() if country not in code_to_name.keys()]\n",
        "print(unknown_countries)"
      ],
      "metadata": {
        "colab": {
          "base_uri": "https://localhost:8080/"
        },
        "outputId": "65e8c364-b853-4fa5-fbd3-54dfe07d3ba8",
        "id": "iw8AAonPs1n4"
      },
      "execution_count": 17,
      "outputs": [
        {
          "output_type": "stream",
          "name": "stdout",
          "text": [
            "['249', '250', '338']\n"
          ]
        }
      ]
    },
    {
      "cell_type": "code",
      "source": [
        "df_custom_from_2012 = df_custom_from_2012[ df_custom_from_2012['Country'].isin(unknown_countries)==False ]"
      ],
      "metadata": {
        "id": "5iUiS5zxs1n4"
      },
      "execution_count": 18,
      "outputs": []
    },
    {
      "cell_type": "code",
      "source": [
        "df_custom_from_2012['Country'].replace(code_to_name, inplace=True)\n",
        "df_custom_from_2012.head()"
      ],
      "metadata": {
        "id": "R40cOG9ps1n5"
      },
      "execution_count": null,
      "outputs": []
    }
  ]
}